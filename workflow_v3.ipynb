{
 "cells": [
  {
   "cell_type": "markdown",
   "id": "872b3f6f",
   "metadata": {},
   "source": [
    "# V3 Fraction Collector (Runze Valve)"
   ]
  },
  {
   "cell_type": "code",
   "execution_count": 1,
   "id": "778cbe8d",
   "metadata": {},
   "outputs": [],
   "source": [
    "from fraction_collector_v4 import FractionCollector\n",
    "from sample_producer import SampleProducer\n",
    "import threading\n",
    "import queue\n",
    "import time"
   ]
  },
  {
   "cell_type": "code",
   "execution_count": 2,
   "id": "8022da7a",
   "metadata": {},
   "outputs": [
    {
     "name": "stdout",
     "output_type": "stream",
     "text": [
      "Connected to CNC Machine!\n",
      "Current port set to 6\n",
      "Moving to location: cnc_waste_location at index 0\n",
      "Movement commands rendered: 4\n",
      "Moved safely To (X174, Y20, Z0):  ['ok']\n"
     ]
    }
   ],
   "source": [
    "# Initialize the FractionCollector\n",
    "collector = FractionCollector(sensor_id=1, runze_valve_port='COM9', runze_valve_address=0, runze_valve_num_port=10, collection_num=3, waste_num=6)"
   ]
  },
  {
   "cell_type": "code",
   "execution_count": 3,
   "id": "7d6269f3",
   "metadata": {},
   "outputs": [],
   "source": [
    "# Define well locations\n",
    "#loc = 'well_plate_location'\n",
    "loc = '96_well_plate_location'"
   ]
  },
  {
   "cell_type": "code",
   "execution_count": 4,
   "id": "5789f14d",
   "metadata": {},
   "outputs": [],
   "source": [
    "def collect_sample_sim(sample, index, duration):\n",
    "    print(f\"🧪 Collecting {sample} at location {index} (takes 15s)...\")\n",
    "    time.sleep(duration)  # Simulate the time taken to collect the sample\n",
    "    print(f\"✅ Finished collecting {sample} at location {index}\")"
   ]
  },
  {
   "cell_type": "code",
   "execution_count": null,
   "id": "cc4f6f90",
   "metadata": {},
   "outputs": [
    {
     "name": "stdout",
     "output_type": "stream",
     "text": [
      "Current port set to 2\n",
      "Sample 1 is ready to collect!\n",
      "Current port set to 3\n",
      "Sample 2 is ready to collect!\n"
     ]
    }
   ],
   "source": [
    "# Shared queue and event\n",
    "sample_queue = queue.Queue()\n",
    "stop_event = threading.Event()\n",
    "number_of_samples = 4\n",
    "\n",
    "# Initialize producer\n",
    "producer = SampleProducer(sample_queue, stop_event, number=number_of_samples, duration=120, delay=200)\n",
    "#producer = SampleProducer(sample_queue, stop_event, number=number_of_samples, duration=40, delay=20)\n",
    "# 2 is yellow, 3 is red, 4 is green, 5 is blue\n",
    "producer.start()"
   ]
  },
  {
   "cell_type": "code",
   "execution_count": 6,
   "id": "792cfcf0",
   "metadata": {},
   "outputs": [
    {
     "name": "stdout",
     "output_type": "stream",
     "text": [
      "Current port set to 6\n",
      "Moving to location: cnc_waste_location at index 0\n",
      "Movement commands rendered: 4\n",
      "Moved safely To (X174, Y20, Z0):  ['ok']\n",
      "Rinsing collection tubing for 30 drops...\n",
      "\n",
      "Current port set to 3\n",
      "Drop Counter (Drops)  Started\n",
      "1\n",
      "2\n",
      "3\n",
      "4\n",
      "5\n",
      "6\n",
      "7\n",
      "8\n",
      "ERROR: HID read timeout!\n",
      "Warning: Drop interval > 5s\n",
      "9\n",
      "10\n",
      "11\n",
      "12\n",
      "13\n",
      "14\n",
      "15\n",
      "16\n",
      "17\n",
      "18\n",
      "19\n",
      "20\n",
      "21\n",
      "22\n",
      "23\n",
      "24\n",
      "25\n",
      "26\n",
      "27\n",
      "28\n",
      "29\n",
      "30\n",
      "Current port set to 6\n",
      "Rinsing complete.\n",
      "\n",
      "Moving to location: 96_well_plate_location at index 32\n",
      "Movement commands rendered: 4\n",
      "Moved safely To (X38, Y95, Z-30):  ['ok']\n",
      "Collecting fraction at 96_well_plate_location (index 32) until 10 drops are counted...\n",
      "\n",
      "Current port set to 3\n",
      "Starting fraction collection at 96_well_plate_location (index 32)...\n",
      "\n",
      "Drop Counter (Drops)  Started\n",
      "1\n",
      "2\n",
      "3\n",
      "4\n",
      "5\n",
      "6\n",
      "7\n",
      "8\n",
      "9\n",
      "❌ Not enough time between samples — shutting down.\n",
      "10\n",
      "Fraction collection of 96_well_plate_location (index 32) complete.\n",
      "\n",
      "Current port set to 6\n",
      "Moving to location: cnc_waste_location at index 0\n",
      "Movement commands rendered: 4\n",
      "Moved safely To (X174, Y20, Z0):  ['ok']\n",
      "❌ Not enough samples\n"
     ]
    }
   ],
   "source": [
    "# Simulate collection\n",
    "loc_index = 32\n",
    "loc_threshold = loc_index + number_of_samples\n",
    "collection_thread = None\n",
    "\n",
    "while not stop_event.is_set():\n",
    "    try:\n",
    "        sample = sample_queue.get(timeout=0.1)\n",
    "        if collection_thread and collection_thread.is_alive():\n",
    "            print(\"❌ Not enough time between samples — shutting down.\")\n",
    "            stop_event.set()\n",
    "            break\n",
    "\n",
    "        #collection_thread = threading.Thread(target=collect_sample_sim, args=(sample, loc_index, 3))\n",
    "        collection_thread = threading.Thread(target=collector.collect_fraction, args=(10, loc, loc_index, 30)) #real collection\n",
    "        collection_thread.start()\n",
    "        loc_index += 1\n",
    "\n",
    "    except queue.Empty:\n",
    "        pass\n",
    "\n",
    "    if loc_index >= loc_threshold:  # match number of samples\n",
    "        break\n",
    "\n",
    "# Wait for last collection to finish\n",
    "if collection_thread and collection_thread.is_alive():\n",
    "    collection_thread.join()\n",
    "\n",
    "# Final result\n",
    "if stop_event.is_set() or loc_index < loc_threshold:\n",
    "    print(\"❌ Not enough samples\")\n",
    "else:\n",
    "    print(\"✅ All samples collected successfully.\")"
   ]
  },
  {
   "cell_type": "code",
   "execution_count": null,
   "id": "5ea53d68",
   "metadata": {},
   "outputs": [],
   "source": [
    "stop_event.set()"
   ]
  },
  {
   "cell_type": "code",
   "execution_count": null,
   "id": "9e51ee73",
   "metadata": {},
   "outputs": [],
   "source": []
  },
  {
   "cell_type": "code",
   "execution_count": null,
   "id": "98154866",
   "metadata": {},
   "outputs": [],
   "source": []
  },
  {
   "cell_type": "code",
   "execution_count": null,
   "id": "669d1855",
   "metadata": {},
   "outputs": [],
   "source": []
  },
  {
   "cell_type": "code",
   "execution_count": null,
   "id": "25d63be8",
   "metadata": {},
   "outputs": [],
   "source": []
  },
  {
   "cell_type": "code",
   "execution_count": 8,
   "id": "9445e16c",
   "metadata": {},
   "outputs": [
    {
     "name": "stdout",
     "output_type": "stream",
     "text": [
      "Sample 1 is ready to collect!\n",
      "Sample 2 is ready to collect!\n",
      "Sample 3 is ready to collect!\n",
      "Sample 4 is ready to collect!\n",
      "Sample 5 is ready to collect!\n",
      "Sample 6 is ready to collect!\n"
     ]
    }
   ],
   "source": [
    "# Simulation code for sample pin from flow reactor\n",
    "sample_queue = queue.Queue()\n",
    "stop_event = threading.Event()\n",
    "\n",
    "# Producer thread: generates \"sample 1\", \"sample 2\", ...\n",
    "def sample_producer(number=48, duration=120):\n",
    "    for count in range(1, number+1):\n",
    "        if stop_event.is_set():\n",
    "            break\n",
    "        time.sleep(duration)  # Fixed interval\n",
    "        sample = f\"{count}\"\n",
    "        print(f\"Sample {sample} is ready to collect!\")\n",
    "        sample_queue.put(sample)\n",
    "\n",
    "# Start the background producer thread\n",
    "producer_thread = threading.Thread(target=sample_producer, kwargs={'number': 6, 'duration': 120}, daemon=True)\n",
    "producer_thread.start()"
   ]
  },
  {
   "cell_type": "code",
   "execution_count": null,
   "id": "b51ee647",
   "metadata": {},
   "outputs": [],
   "source": []
  }
 ],
 "metadata": {
  "kernelspec": {
   "display_name": ".conda",
   "language": "python",
   "name": "python3"
  },
  "language_info": {
   "codemirror_mode": {
    "name": "ipython",
    "version": 3
   },
   "file_extension": ".py",
   "mimetype": "text/x-python",
   "name": "python",
   "nbconvert_exporter": "python",
   "pygments_lexer": "ipython3",
   "version": "3.10.16"
  }
 },
 "nbformat": 4,
 "nbformat_minor": 5
}
