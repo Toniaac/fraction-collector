{
 "cells": [
  {
   "cell_type": "code",
   "execution_count": 3,
   "id": "54fd5973",
   "metadata": {},
   "outputs": [],
   "source": [
    "import threading\n",
    "import queue\n",
    "import time\n",
    "import random\n",
    "import pandas as pd"
   ]
  },
  {
   "cell_type": "code",
   "execution_count": 7,
   "id": "3c18e007",
   "metadata": {},
   "outputs": [],
   "source": [
    "# Shared queue\n",
    "sample_queue = queue.Queue()\n",
    "\n",
    "# Producer thread: generates \"sample 1\", \"sample 2\", ...\n",
    "def sample_producer(number=48, duration=10):\n",
    "    for count in range(1, number + 1):\n",
    "        sample = f\"sample {count}\"\n",
    "        print(f\"Sample {sample} is ready to collect!\")\n",
    "        sample_queue.put(sample)\n",
    "        time.sleep(duration)  # Fixed interval\n",
    "\n",
    "\n",
    "# Triggered function\n",
    "def on_sample_received(sample):\n",
    "    print(f\"Collecting Sample {sample}!\")"
   ]
  },
  {
   "cell_type": "code",
   "execution_count": 8,
   "id": "61dde875",
   "metadata": {},
   "outputs": [
    {
     "name": "stdout",
     "output_type": "stream",
     "text": [
      "Sample sample 1 is ready to collect![Main Thread] Starting to monitor incoming samples...\n",
      "\n",
      "\n",
      "Collecting Sample sample 1!\n",
      "Sample sample 2 is ready to collect!\n",
      "Collecting Sample sample 2!\n",
      "Sample sample 3 is ready to collect!\n",
      "Collecting Sample sample 3!\n"
     ]
    },
    {
     "ename": "KeyboardInterrupt",
     "evalue": "",
     "output_type": "error",
     "traceback": [
      "\u001b[1;31m---------------------------------------------------------------------------\u001b[0m",
      "\u001b[1;31mKeyboardInterrupt\u001b[0m                         Traceback (most recent call last)",
      "Cell \u001b[1;32mIn[8], line 9\u001b[0m\n\u001b[0;32m      7\u001b[0m \u001b[38;5;28;01mwhile\u001b[39;00m \u001b[38;5;28;01mTrue\u001b[39;00m:\n\u001b[0;32m      8\u001b[0m     \u001b[38;5;28;01mtry\u001b[39;00m:\n\u001b[1;32m----> 9\u001b[0m         sample \u001b[38;5;241m=\u001b[39m \u001b[43msample_queue\u001b[49m\u001b[38;5;241;43m.\u001b[39;49m\u001b[43mget\u001b[49m\u001b[43m(\u001b[49m\u001b[43mtimeout\u001b[49m\u001b[38;5;241;43m=\u001b[39;49m\u001b[38;5;241;43m0.1\u001b[39;49m\u001b[43m)\u001b[49m  \u001b[38;5;66;03m# Non-blocking with timeout\u001b[39;00m\n\u001b[0;32m     10\u001b[0m         on_sample_received(sample)\n\u001b[0;32m     11\u001b[0m     \u001b[38;5;28;01mexcept\u001b[39;00m queue\u001b[38;5;241m.\u001b[39mEmpty:\n",
      "File \u001b[1;32mc:\\Users\\SDL4\\Desktop\\cnc-liquid-dispenser\\cnc-liquid-handler\\.conda\\lib\\queue.py:180\u001b[0m, in \u001b[0;36mQueue.get\u001b[1;34m(self, block, timeout)\u001b[0m\n\u001b[0;32m    178\u001b[0m         \u001b[38;5;28;01mif\u001b[39;00m remaining \u001b[38;5;241m<\u001b[39m\u001b[38;5;241m=\u001b[39m \u001b[38;5;241m0.0\u001b[39m:\n\u001b[0;32m    179\u001b[0m             \u001b[38;5;28;01mraise\u001b[39;00m Empty\n\u001b[1;32m--> 180\u001b[0m         \u001b[38;5;28;43mself\u001b[39;49m\u001b[38;5;241;43m.\u001b[39;49m\u001b[43mnot_empty\u001b[49m\u001b[38;5;241;43m.\u001b[39;49m\u001b[43mwait\u001b[49m\u001b[43m(\u001b[49m\u001b[43mremaining\u001b[49m\u001b[43m)\u001b[49m\n\u001b[0;32m    181\u001b[0m item \u001b[38;5;241m=\u001b[39m \u001b[38;5;28mself\u001b[39m\u001b[38;5;241m.\u001b[39m_get()\n\u001b[0;32m    182\u001b[0m \u001b[38;5;28mself\u001b[39m\u001b[38;5;241m.\u001b[39mnot_full\u001b[38;5;241m.\u001b[39mnotify()\n",
      "File \u001b[1;32mc:\\Users\\SDL4\\Desktop\\cnc-liquid-dispenser\\cnc-liquid-handler\\.conda\\lib\\threading.py:324\u001b[0m, in \u001b[0;36mCondition.wait\u001b[1;34m(self, timeout)\u001b[0m\n\u001b[0;32m    322\u001b[0m \u001b[38;5;28;01melse\u001b[39;00m:\n\u001b[0;32m    323\u001b[0m     \u001b[38;5;28;01mif\u001b[39;00m timeout \u001b[38;5;241m>\u001b[39m \u001b[38;5;241m0\u001b[39m:\n\u001b[1;32m--> 324\u001b[0m         gotit \u001b[38;5;241m=\u001b[39m \u001b[43mwaiter\u001b[49m\u001b[38;5;241;43m.\u001b[39;49m\u001b[43macquire\u001b[49m\u001b[43m(\u001b[49m\u001b[38;5;28;43;01mTrue\u001b[39;49;00m\u001b[43m,\u001b[49m\u001b[43m \u001b[49m\u001b[43mtimeout\u001b[49m\u001b[43m)\u001b[49m\n\u001b[0;32m    325\u001b[0m     \u001b[38;5;28;01melse\u001b[39;00m:\n\u001b[0;32m    326\u001b[0m         gotit \u001b[38;5;241m=\u001b[39m waiter\u001b[38;5;241m.\u001b[39macquire(\u001b[38;5;28;01mFalse\u001b[39;00m)\n",
      "\u001b[1;31mKeyboardInterrupt\u001b[0m: "
     ]
    },
    {
     "name": "stdout",
     "output_type": "stream",
     "text": [
      "Sample sample 4 is ready to collect!\n",
      "Sample sample 5 is ready to collect!\n",
      "Sample sample 6 is ready to collect!\n",
      "Sample sample 7 is ready to collect!\n",
      "Sample sample 8 is ready to collect!\n",
      "Sample sample 9 is ready to collect!\n",
      "Sample sample 10 is ready to collect!\n",
      "Sample sample 11 is ready to collect!\n",
      "Sample sample 12 is ready to collect!\n"
     ]
    }
   ],
   "source": [
    "# Start the background producer thread\n",
    "producer_thread = threading.Thread(target=sample_producer, kwargs={'number': 12, 'duration': 5}, daemon=True)\n",
    "producer_thread.start()\n",
    "\n",
    "\n",
    "while True:\n",
    "    try:\n",
    "        sample = sample_queue.get(timeout=0.1)  # Non-blocking with timeout\n",
    "        on_sample_received(sample)\n",
    "    except queue.Empty:\n",
    "        pass  # No sample yet, loop again\n"
   ]
  },
  {
   "cell_type": "code",
   "execution_count": 5,
   "id": "42bc8870",
   "metadata": {},
   "outputs": [
    {
     "data": {
      "text/html": [
       "<div>\n",
       "<style scoped>\n",
       "    .dataframe tbody tr th:only-of-type {\n",
       "        vertical-align: middle;\n",
       "    }\n",
       "\n",
       "    .dataframe tbody tr th {\n",
       "        vertical-align: top;\n",
       "    }\n",
       "\n",
       "    .dataframe thead th {\n",
       "        text-align: right;\n",
       "    }\n",
       "</style>\n",
       "<table border=\"1\" class=\"dataframe\">\n",
       "  <thead>\n",
       "    <tr style=\"text-align: right;\">\n",
       "      <th></th>\n",
       "      <th>REACTION NAME</th>\n",
       "      <th>RESIDENCE TIME (mins)</th>\n",
       "      <th>TEMPERATURE REACTOR 1</th>\n",
       "      <th>RESIDENCE TIME REACTOR 1</th>\n",
       "      <th>TEMPERATURE REACTOR 2</th>\n",
       "      <th>RESIDENCE TIME REACTOR 2</th>\n",
       "      <th>TEMPERATURE REACTOR 3</th>\n",
       "      <th>RESIDENCE TIME REACTOR 3</th>\n",
       "      <th>UV POWER REACTOR 3 (%)</th>\n",
       "      <th>TEMPERATURE REACTOR 4</th>\n",
       "      <th>...</th>\n",
       "      <th>CLEAN AT START SAMPLE E</th>\n",
       "      <th>LOADING SITE F</th>\n",
       "      <th>DO NOT FILL SAMPLE F</th>\n",
       "      <th>CLEAN AT START SAMPLE F</th>\n",
       "      <th>LOADING SITE G</th>\n",
       "      <th>DO NOT FILL SAMPLE G</th>\n",
       "      <th>CLEAN AT START SAMPLE G</th>\n",
       "      <th>LOADING SITE H</th>\n",
       "      <th>DO NOT FILL SAMPLE H</th>\n",
       "      <th>CLEAN AT START SAMPLE H</th>\n",
       "    </tr>\n",
       "  </thead>\n",
       "  <tbody>\n",
       "    <tr>\n",
       "      <th>0</th>\n",
       "      <td>EN-01-62(reaction2)</td>\n",
       "      <td>10</td>\n",
       "      <td>25</td>\n",
       "      <td>False</td>\n",
       "      <td>25</td>\n",
       "      <td>False</td>\n",
       "      <td>80</td>\n",
       "      <td>True</td>\n",
       "      <td>50</td>\n",
       "      <td>80</td>\n",
       "      <td>...</td>\n",
       "      <td>True</td>\n",
       "      <td>0</td>\n",
       "      <td>False</td>\n",
       "      <td>True</td>\n",
       "      <td>0</td>\n",
       "      <td>False</td>\n",
       "      <td>True</td>\n",
       "      <td>0</td>\n",
       "      <td>False</td>\n",
       "      <td>True</td>\n",
       "    </tr>\n",
       "  </tbody>\n",
       "</table>\n",
       "<p>1 rows × 112 columns</p>\n",
       "</div>"
      ],
      "text/plain": [
       "         REACTION NAME  RESIDENCE TIME (mins)  TEMPERATURE REACTOR 1  \\\n",
       "0  EN-01-62(reaction2)                     10                     25   \n",
       "\n",
       "   RESIDENCE TIME REACTOR 1  TEMPERATURE REACTOR 2  RESIDENCE TIME REACTOR 2  \\\n",
       "0                     False                     25                     False   \n",
       "\n",
       "   TEMPERATURE REACTOR 3  RESIDENCE TIME REACTOR 3  UV POWER REACTOR 3 (%)  \\\n",
       "0                     80                      True                      50   \n",
       "\n",
       "   TEMPERATURE REACTOR 4  ...  CLEAN AT START SAMPLE E  LOADING SITE F  \\\n",
       "0                     80  ...                     True               0   \n",
       "\n",
       "   DO NOT FILL SAMPLE F  CLEAN AT START SAMPLE F  LOADING SITE G  \\\n",
       "0                 False                     True               0   \n",
       "\n",
       "   DO NOT FILL SAMPLE G  CLEAN AT START SAMPLE G  LOADING SITE H  \\\n",
       "0                 False                     True               0   \n",
       "\n",
       "   DO NOT FILL SAMPLE H  CLEAN AT START SAMPLE H  \n",
       "0                 False                     True  \n",
       "\n",
       "[1 rows x 112 columns]"
      ]
     },
     "execution_count": 5,
     "metadata": {},
     "output_type": "execute_result"
    }
   ],
   "source": [
    "df = pd.read_csv(\"EN-01-62reaction2.csv\")\n",
    "df"
   ]
  },
  {
   "cell_type": "code",
   "execution_count": 13,
   "id": "3f223856",
   "metadata": {},
   "outputs": [
    {
     "name": "stdout",
     "output_type": "stream",
     "text": [
      "25.2357\n"
     ]
    }
   ],
   "source": [
    "waste_time = float(df['DIVERT TO WASTE (min)'][0])\n",
    "print(waste_time)"
   ]
  },
  {
   "cell_type": "code",
   "execution_count": 14,
   "id": "5681a7b9",
   "metadata": {},
   "outputs": [
    {
     "name": "stdout",
     "output_type": "stream",
     "text": [
      "17.11\n"
     ]
    }
   ],
   "source": [
    "collection_time = float(df['COLLECT FOR (min)'][0])\n",
    "print(collection_time)"
   ]
  },
  {
   "cell_type": "code",
   "execution_count": null,
   "id": "95b145f3",
   "metadata": {},
   "outputs": [],
   "source": []
  }
 ],
 "metadata": {
  "kernelspec": {
   "display_name": ".conda",
   "language": "python",
   "name": "python3"
  },
  "language_info": {
   "codemirror_mode": {
    "name": "ipython",
    "version": 3
   },
   "file_extension": ".py",
   "mimetype": "text/x-python",
   "name": "python",
   "nbconvert_exporter": "python",
   "pygments_lexer": "ipython3",
   "version": "3.10.16"
  }
 },
 "nbformat": 4,
 "nbformat_minor": 5
}
