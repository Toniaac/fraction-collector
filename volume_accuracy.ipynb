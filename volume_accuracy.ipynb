{
 "cells": [
  {
   "cell_type": "code",
   "execution_count": 1,
   "id": "07231b57",
   "metadata": {},
   "outputs": [],
   "source": [
    "%matplotlib notebook"
   ]
  },
  {
   "cell_type": "code",
   "execution_count": 15,
   "id": "72ef7bc7",
   "metadata": {},
   "outputs": [],
   "source": [
    "import serial\n",
    "import time\n",
    "import matplotlib.pyplot as plt\n",
    "import matplotlib.animation as animation\n",
    "from collections import deque"
   ]
  },
  {
   "cell_type": "code",
   "execution_count": 2,
   "id": "19e8f529",
   "metadata": {},
   "outputs": [
    {
     "name": "stdout",
     "output_type": "stream",
     "text": [
      "Weight: ST,+0001.665  g\n",
      "Weight: ST,+0001.664  g\n",
      "Weight: ST,+0001.664  g\n",
      "Weight: ST,+0001.664  g\n",
      "Serial port closed.\n"
     ]
    },
    {
     "ename": "KeyboardInterrupt",
     "evalue": "",
     "output_type": "error",
     "traceback": [
      "\u001b[1;31m---------------------------------------------------------------------------\u001b[0m",
      "\u001b[1;31mKeyboardInterrupt\u001b[0m                         Traceback (most recent call last)",
      "Cell \u001b[1;32mIn[2], line 19\u001b[0m\n\u001b[0;32m     17\u001b[0m \u001b[38;5;28;01mwhile\u001b[39;00m \u001b[38;5;28;01mTrue\u001b[39;00m:\n\u001b[0;32m     18\u001b[0m     ser\u001b[38;5;241m.\u001b[39mwrite(\u001b[38;5;124mb\u001b[39m\u001b[38;5;124m'\u001b[39m\u001b[38;5;124mQ\u001b[39m\u001b[38;5;130;01m\\r\u001b[39;00m\u001b[38;5;130;01m\\n\u001b[39;00m\u001b[38;5;124m'\u001b[39m)\n\u001b[1;32m---> 19\u001b[0m     \u001b[43mtime\u001b[49m\u001b[38;5;241;43m.\u001b[39;49m\u001b[43msleep\u001b[49m\u001b[43m(\u001b[49m\u001b[38;5;241;43m0.3\u001b[39;49m\u001b[43m)\u001b[49m\n\u001b[0;32m     20\u001b[0m     response \u001b[38;5;241m=\u001b[39m ser\u001b[38;5;241m.\u001b[39mreadline()\u001b[38;5;241m.\u001b[39mdecode(errors\u001b[38;5;241m=\u001b[39m\u001b[38;5;124m'\u001b[39m\u001b[38;5;124mignore\u001b[39m\u001b[38;5;124m'\u001b[39m)\u001b[38;5;241m.\u001b[39mstrip()\n\u001b[0;32m     21\u001b[0m     \u001b[38;5;28mprint\u001b[39m(\u001b[38;5;124m\"\u001b[39m\u001b[38;5;124mWeight:\u001b[39m\u001b[38;5;124m\"\u001b[39m, response \u001b[38;5;129;01mor\u001b[39;00m \u001b[38;5;124m\"\u001b[39m\u001b[38;5;124mNo response\u001b[39m\u001b[38;5;124m\"\u001b[39m)\n",
      "\u001b[1;31mKeyboardInterrupt\u001b[0m: "
     ]
    }
   ],
   "source": [
    "import serial\n",
    "import time\n",
    "\n",
    "COM_PORT = 'COM15'\n",
    "BAUD_RATE = 19200\n",
    "\n",
    "try:\n",
    "    ser = serial.Serial(\n",
    "        port=COM_PORT,\n",
    "        baudrate=BAUD_RATE,\n",
    "        bytesize=serial.EIGHTBITS,\n",
    "        parity=serial.PARITY_NONE,\n",
    "        stopbits=serial.STOPBITS_ONE,\n",
    "        timeout=1\n",
    "    )\n",
    "\n",
    "    while True:\n",
    "        ser.write(b'Q\\r\\n')\n",
    "        time.sleep(0.3)\n",
    "        response = ser.readline().decode(errors='ignore').strip()\n",
    "        print(\"Weight:\", response or \"No response\")\n",
    "        time.sleep(0.5)  # Wait 0.5 seconds between readings\n",
    "\n",
    "except serial.SerialException as e:\n",
    "    print(f\"Serial error: {e}\")\n",
    "\n",
    "finally:\n",
    "    if 'ser' in locals() and ser.is_open:\n",
    "        ser.close()\n",
    "        print(\"Serial port closed.\")\n"
   ]
  },
  {
   "cell_type": "code",
   "execution_count": 1,
   "id": "35281379",
   "metadata": {},
   "outputs": [
    {
     "name": "stdout",
     "output_type": "stream",
     "text": [
      "Connected to COM15 at 19200 baud.\n",
      "Stopping...\n",
      "Serial port closed.\n",
      "Stopped cleanly.\n"
     ]
    },
    {
     "data": {
      "image/png": "[encoded data removed]",
      "text/plain": [
       "<Figure size 640x480 with 1 Axes>"
      ]
     },
     "metadata": {},
     "output_type": "display_data"
    }
   ],
   "source": [
    "import serial\n",
    "import time\n",
    "import matplotlib.pyplot as plt\n",
    "from collections import deque\n",
    "import threading\n",
    "\n",
    "COM_PORT = 'COM15'  # Change if needed\n",
    "BAUD_RATE = 19200\n",
    "MAX_POINTS = 100\n",
    "\n",
    "weights = deque(maxlen=MAX_POINTS)\n",
    "x_vals = deque(maxlen=MAX_POINTS)\n",
    "\n",
    "stop_thread = False  # Flag to stop thread safely\n",
    "\n",
    "# Thread function to read serial data continuously\n",
    "def serial_reader():\n",
    "    global stop_thread, weights, x_vals\n",
    "    sample_num = 0\n",
    "    try:\n",
    "        ser = serial.Serial(\n",
    "            port=COM_PORT,\n",
    "            baudrate=BAUD_RATE,\n",
    "            bytesize=serial.EIGHTBITS,\n",
    "            parity=serial.PARITY_NONE,\n",
    "            stopbits=serial.STOPBITS_ONE,\n",
    "            timeout=1\n",
    "        )\n",
    "        print(f\"Connected to {COM_PORT} at {BAUD_RATE} baud.\")\n",
    "        while not stop_thread:\n",
    "            ser.write(b'Q\\r\\n')\n",
    "            time.sleep(0.3)\n",
    "            raw = ser.readline().decode(errors='ignore').strip()\n",
    "            # print(\"Raw:\", raw or \"No response\")  # Uncomment to debug\n",
    "            weight = None\n",
    "            if raw.startswith(\"ST,\") or raw.startswith(\"US,\"):\n",
    "                try:\n",
    "                    weight_str = raw.split(',')[1].strip().split()[0]\n",
    "                    weight = float(weight_str)\n",
    "                except Exception as e:\n",
    "                    print(\"Parse error:\", e)\n",
    "\n",
    "            if weight is not None:\n",
    "                sample_num += 1\n",
    "                weights.append(weight)\n",
    "                x_vals.append(sample_num)\n",
    "            time.sleep(0.2)\n",
    "\n",
    "    except serial.SerialException as e:\n",
    "        print(f\"Serial error: {e}\")\n",
    "\n",
    "    finally:\n",
    "        if 'ser' in locals() and ser.is_open:\n",
    "            ser.close()\n",
    "            print(\"Serial port closed.\")\n",
    "\n",
    "# Start serial reading in a background thread\n",
    "thread = threading.Thread(target=serial_reader)\n",
    "thread.start()\n",
    "\n",
    "# Setup matplotlib plot (interactive)\n",
    "plt.ion()\n",
    "fig, ax = plt.subplots()\n",
    "line, = ax.plot([], [], lw=2)\n",
    "ax.set_title(\"FX-120i Live Weight\")\n",
    "ax.set_xlabel(\"Samples\")\n",
    "ax.set_ylabel(\"Weight (g)\")\n",
    "ax.grid(True)\n",
    "\n",
    "def update_plot():\n",
    "    while not stop_thread:\n",
    "        if weights:\n",
    "            line.set_data(x_vals, weights)\n",
    "            ax.set_xlim(max(0, x_vals[-1] - MAX_POINTS), x_vals[-1])\n",
    "            ax.set_ylim(min(weights) - 1, max(weights) + 1)\n",
    "            fig.canvas.draw_idle()\n",
    "        time.sleep(0.5)\n",
    "\n",
    "# Run plot updater in main thread (blocking)\n",
    "try:\n",
    "    update_plot()\n",
    "except KeyboardInterrupt:\n",
    "    print(\"Stopping...\")\n",
    "\n",
    "# Signal thread to stop and wait for it\n",
    "stop_thread = True\n",
    "thread.join()\n",
    "print(\"Stopped cleanly.\")\n"
   ]
  },
  {
   "cell_type": "code",
   "execution_count": null,
   "id": "daac7072",
   "metadata": {},
   "outputs": [],
   "source": []
  }
 ],
 "metadata": {
  "kernelspec": {
   "display_name": ".conda",
   "language": "python",
   "name": "python3"
  },
  "language_info": {
   "codemirror_mode": {
    "name": "ipython",
    "version": 3
   },
   "file_extension": ".py",
   "mimetype": "text/x-python",
   "name": "python",
   "nbconvert_exporter": "python",
   "pygments_lexer": "ipython3",
   "version": "3.10.16"
  }
 },
 "nbformat": 4,
 "nbformat_minor": 5
}
