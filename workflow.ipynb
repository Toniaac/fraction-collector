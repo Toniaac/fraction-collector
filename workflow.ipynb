{
 "cells": [
  {
   "cell_type": "markdown",
   "id": "872b3f6f",
   "metadata": {},
   "source": [
    "# V2 Drip Counter"
   ]
  },
  {
   "cell_type": "code",
   "execution_count": 4,
   "id": "778cbe8d",
   "metadata": {},
   "outputs": [],
   "source": [
    "from fraction_collector_v2 import FractionCollector"
   ]
  },
  {
   "cell_type": "code",
   "execution_count": null,
   "id": "8022da7a",
   "metadata": {},
   "outputs": [
    {
     "name": "stdout",
     "output_type": "stream",
     "text": [
      "Connected to CNC Machine!\n"
     ]
    },
    {
     "ename": "RuntimeError",
     "evalue": "Failed to initialize Elveflow MUX device.",
     "output_type": "error",
     "traceback": [
      "\u001b[1;31m---------------------------------------------------------------------------\u001b[0m",
      "\u001b[1;31mRuntimeError\u001b[0m                              Traceback (most recent call last)",
      "Cell \u001b[1;32mIn[5], line 1\u001b[0m\n\u001b[1;32m----> 1\u001b[0m collector \u001b[38;5;241m=\u001b[39m \u001b[43mFractionCollector\u001b[49m\u001b[43m(\u001b[49m\u001b[43msensor_id\u001b[49m\u001b[38;5;241;43m=\u001b[39;49m\u001b[38;5;241;43m1\u001b[39;49m\u001b[43m,\u001b[49m\u001b[43mmux_com_port\u001b[49m\u001b[38;5;241;43m=\u001b[39;49m\u001b[38;5;124;43m\"\u001b[39;49m\u001b[38;5;124;43mCOM6\u001b[39;49m\u001b[38;5;124;43m\"\u001b[39;49m\u001b[43m)\u001b[49m\n",
      "File \u001b[1;32md:\\GitHub\\fraction-collector\\fraction_collector_v2.py:18\u001b[0m, in \u001b[0;36mFractionCollector.__init__\u001b[1;34m(self, sensor_id, mux_com_port)\u001b[0m\n\u001b[0;32m     16\u001b[0m \u001b[38;5;28mself\u001b[39m\u001b[38;5;241m.\u001b[39mmux_id \u001b[38;5;241m=\u001b[39m \u001b[38;5;28mself\u001b[39m\u001b[38;5;241m.\u001b[39mvalve_controller\u001b[38;5;241m.\u001b[39minitialize(mux_com_port)\n\u001b[0;32m     17\u001b[0m \u001b[38;5;28;01mif\u001b[39;00m \u001b[38;5;28mself\u001b[39m\u001b[38;5;241m.\u001b[39mmux_id \u001b[38;5;241m<\u001b[39m \u001b[38;5;241m0\u001b[39m:\n\u001b[1;32m---> 18\u001b[0m     \u001b[38;5;28;01mraise\u001b[39;00m \u001b[38;5;167;01mRuntimeError\u001b[39;00m(\u001b[38;5;124m\"\u001b[39m\u001b[38;5;124mFailed to initialize Elveflow MUX device.\u001b[39m\u001b[38;5;124m\"\u001b[39m)\n",
      "\u001b[1;31mRuntimeError\u001b[0m: Failed to initialize Elveflow MUX device."
     ]
    }
   ],
   "source": [
    "# Initialize the FractionCollector with the sensor ID and MUX COM port\n",
    "collector = FractionCollector(sensor_id=1,mux_com_port=\"COM6\")"
   ]
  },
  {
   "cell_type": "code",
   "execution_count": null,
   "id": "7d6269f3",
   "metadata": {},
   "outputs": [],
   "source": [
    "# Define well locations\n",
    "loc = \"\"\n",
    "loc_indices = []"
   ]
  },
  {
   "cell_type": "code",
   "execution_count": null,
   "id": "792cfcf0",
   "metadata": {},
   "outputs": [],
   "source": [
    "for loc_index in loc_indices:\n",
    "    collector.collect_fraction(threshold=30, location = loc, location_index = loc_index, timeout=10, rate_index = 8)"
   ]
  }
 ],
 "metadata": {
  "kernelspec": {
   "display_name": "Python 3",
   "language": "python",
   "name": "python3"
  },
  "language_info": {
   "codemirror_mode": {
    "name": "ipython",
    "version": 3
   },
   "file_extension": ".py",
   "mimetype": "text/x-python",
   "name": "python",
   "nbconvert_exporter": "python",
   "pygments_lexer": "ipython3",
   "version": "3.10.6"
  }
 },
 "nbformat": 4,
 "nbformat_minor": 5
}
