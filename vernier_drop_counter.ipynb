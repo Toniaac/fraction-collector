{
 "cells": [
  {
   "cell_type": "code",
   "execution_count": 1,
   "id": "80fbf169",
   "metadata": {},
   "outputs": [
    {
     "data": {
      "text/plain": [
       "True"
      ]
     },
     "execution_count": 1,
     "metadata": {},
     "output_type": "execute_result"
    }
   ],
   "source": [
    "from godirect import GoDirect\n",
    "import time\n",
    "godirect = GoDirect(use_ble=False, use_usb=True)\n",
    "mydevice = godirect.get_device()\n",
    "mydevice.open(auto_start=True)"
   ]
  },
  {
   "cell_type": "code",
   "execution_count": 2,
   "id": "18f9067a",
   "metadata": {},
   "outputs": [
    {
     "data": {
      "text/plain": [
       "{1: <godirect.sensor.GoDirectSensor at 0x1e6e0b94bb0>,\n",
       " 2: <godirect.sensor.GoDirectSensor at 0x1e6e0b97190>,\n",
       " 3: <godirect.sensor.GoDirectSensor at 0x1e6e0b95300>,\n",
       " 4: <godirect.sensor.GoDirectSensor at 0x1e6e0b96290>,\n",
       " 5: <godirect.sensor.GoDirectSensor at 0x1e6e0b950c0>,\n",
       " 6: <godirect.sensor.GoDirectSensor at 0x1e6e0b95030>,\n",
       " 7: <godirect.sensor.GoDirectSensor at 0x1e6e0b96470>}"
      ]
     },
     "execution_count": 2,
     "metadata": {},
     "output_type": "execute_result"
    }
   ],
   "source": [
    "sensors = mydevice.list_sensors()\n",
    "sensors"
   ]
  },
  {
   "cell_type": "code",
   "execution_count": 3,
   "id": "4e18a7f5",
   "metadata": {},
   "outputs": [],
   "source": [
    "mydevice.enable_sensors([1,2,3,4,5,6,7])"
   ]
  },
  {
   "cell_type": "code",
   "execution_count": 4,
   "id": "24bbeaef",
   "metadata": {},
   "outputs": [],
   "source": [
    "mysensors = mydevice.get_enabled_sensors()"
   ]
  },
  {
   "cell_type": "code",
   "execution_count": 5,
   "id": "c87ed1f0",
   "metadata": {},
   "outputs": [
    {
     "data": {
      "text/plain": [
       "[<godirect.sensor.GoDirectSensor at 0x1d924427490>,\n",
       " <godirect.sensor.GoDirectSensor at 0x1d924427fa0>,\n",
       " <godirect.sensor.GoDirectSensor at 0x1d924427fd0>,\n",
       " <godirect.sensor.GoDirectSensor at 0x1d924426650>,\n",
       " <godirect.sensor.GoDirectSensor at 0x1d924425d20>,\n",
       " <godirect.sensor.GoDirectSensor at 0x1d9243f52d0>,\n",
       " <godirect.sensor.GoDirectSensor at 0x1d9243f7bb0>]"
      ]
     },
     "execution_count": 5,
     "metadata": {},
     "output_type": "execute_result"
    }
   ],
   "source": [
    "mysensors "
   ]
  },
  {
   "cell_type": "code",
   "execution_count": 6,
   "id": "154135b7",
   "metadata": {},
   "outputs": [
    {
     "name": "stdout",
     "output_type": "stream",
     "text": [
      "[0.2909088134765625]\n",
      "[]\n",
      "[]\n",
      "[]\n",
      "[]\n",
      "[]\n",
      "[]\n",
      "[0.2909088134765625, 0.2909088134765625]\n",
      "[]\n",
      "[]\n",
      "[]\n",
      "[]\n",
      "[]\n",
      "[]\n",
      "[0.2909088134765625, 0.2909088134765625, 0.29938507080078125]\n",
      "[]\n",
      "[]\n",
      "[]\n",
      "[]\n",
      "[]\n",
      "[]\n",
      "[0.2909088134765625, 0.2909088134765625, 0.29938507080078125, 0.29302978515625]\n",
      "[]\n",
      "[]\n",
      "[]\n",
      "[]\n",
      "[]\n",
      "[]\n",
      "[0.2909088134765625, 0.2909088134765625, 0.29938507080078125, 0.29302978515625, 0.28879547119140625]\n",
      "[]\n",
      "[]\n",
      "[]\n",
      "[]\n",
      "[]\n",
      "[]\n",
      "[0.2909088134765625, 0.2909088134765625, 0.29938507080078125, 0.29302978515625, 0.28879547119140625, 0.29726409912109375]\n",
      "[]\n",
      "[]\n",
      "[]\n",
      "[]\n",
      "[]\n",
      "[]\n",
      "[0.2909088134765625, 0.2909088134765625, 0.29938507080078125, 0.29302978515625, 0.28879547119140625, 0.29726409912109375, 0.2951507568359375]\n",
      "[]\n",
      "[]\n",
      "[]\n",
      "[]\n",
      "[]\n",
      "[]\n",
      "[0.2909088134765625, 0.2909088134765625, 0.29938507080078125, 0.29302978515625, 0.28879547119140625, 0.29726409912109375, 0.2951507568359375, 0.28879547119140625]\n",
      "[]\n",
      "[]\n",
      "[]\n",
      "[]\n",
      "[]\n",
      "[]\n",
      "[0.2909088134765625, 0.2909088134765625, 0.29938507080078125, 0.29302978515625, 0.28879547119140625, 0.29726409912109375, 0.2951507568359375, 0.28879547119140625, 0.28879547119140625]\n",
      "[]\n",
      "[]\n",
      "[]\n",
      "[]\n",
      "[]\n",
      "[]\n",
      "[0.2909088134765625, 0.2909088134765625, 0.29938507080078125, 0.29302978515625, 0.28879547119140625, 0.29726409912109375, 0.2951507568359375, 0.28879547119140625, 0.28879547119140625, 0.29938507080078125]\n",
      "[]\n",
      "[]\n",
      "[]\n",
      "[]\n",
      "[]\n",
      "[]\n"
     ]
    }
   ],
   "source": [
    "for i in range(0,10):\n",
    "\ttime.sleep(1)\n",
    "\t# read() will append new measurement(s) received to the values list in the Sensor object\n",
    "\tif mydevice.read():\n",
    "\t\tfor sensor in mysensors:\n",
    "\t\t\tprint(sensor.values)\n",
    "\t\t\t#sensor.clear()"
   ]
  },
  {
   "cell_type": "code",
   "execution_count": 2,
   "id": "91fc656d",
   "metadata": {},
   "outputs": [
    {
     "data": {
      "text/plain": [
       "[<godirect.device_usb.GoDirectDeviceUSB at 0x247e984b520>,\n",
       " <godirect.device_usb.GoDirectDeviceUSB at 0x247e9849b10>]"
      ]
     },
     "execution_count": 2,
     "metadata": {},
     "output_type": "execute_result"
    }
   ],
   "source": [
    "from godirect import GoDirect\n",
    "import time\n",
    "\n",
    "# Initialize GoDirect interface with USB only\n",
    "gd = GoDirect(use_ble=False)\n",
    "devices = gd.list_devices()\n",
    "devices"
   ]
  },
  {
   "cell_type": "code",
   "execution_count": null,
   "id": "1782c53a",
   "metadata": {},
   "outputs": [],
   "source": []
  },
  {
   "cell_type": "code",
   "execution_count": 26,
   "id": "bc061377",
   "metadata": {},
   "outputs": [
    {
     "name": "stdout",
     "output_type": "stream",
     "text": [
      "Available devices:\n",
      "0: Go Direct Sensor USB \n",
      "1: Go Direct Sensor USB \n",
      "Sensors:\n"
     ]
    },
    {
     "ename": "KeyError",
     "evalue": "0",
     "output_type": "error",
     "traceback": [
      "\u001b[1;31m---------------------------------------------------------------------------\u001b[0m",
      "\u001b[1;31mKeyError\u001b[0m                                  Traceback (most recent call last)",
      "Cell \u001b[1;32mIn[26], line 25\u001b[0m\n\u001b[0;32m     22\u001b[0m     \u001b[38;5;28mprint\u001b[39m(\u001b[38;5;124mf\u001b[39m\u001b[38;5;124m\"\u001b[39m\u001b[38;5;132;01m{\u001b[39;00mi\u001b[38;5;132;01m}\u001b[39;00m\u001b[38;5;124m: \u001b[39m\u001b[38;5;132;01m{\u001b[39;00msensor\u001b[38;5;241m.\u001b[39mname\u001b[38;5;132;01m}\u001b[39;00m\u001b[38;5;124m\"\u001b[39m)\n\u001b[0;32m     24\u001b[0m \u001b[38;5;66;03m# Enable the Drop Counter sensor (typically first one)\u001b[39;00m\n\u001b[1;32m---> 25\u001b[0m drop_counter_sensor \u001b[38;5;241m=\u001b[39m \u001b[43mdevice\u001b[49m\u001b[38;5;241;43m.\u001b[39;49m\u001b[43msensors\u001b[49m\u001b[43m[\u001b[49m\u001b[38;5;241;43m0\u001b[39;49m\u001b[43m]\u001b[49m\n\u001b[0;32m     26\u001b[0m drop_counter_sensor\u001b[38;5;241m.\u001b[39menabled \u001b[38;5;241m=\u001b[39m \u001b[38;5;28;01mTrue\u001b[39;00m\n\u001b[0;32m     28\u001b[0m \u001b[38;5;66;03m# Start measurement\u001b[39;00m\n",
      "\u001b[1;31mKeyError\u001b[0m: 0"
     ]
    }
   ],
   "source": [
    "from godirect import GoDirect\n",
    "import time\n",
    "\n",
    "# Initialize GoDirect interface with USB only\n",
    "gd = GoDirect(use_ble=False)\n",
    "devices = gd.list_devices()\n",
    "\n",
    "# Print available devices\n",
    "print(\"Available devices:\")\n",
    "for i, d in enumerate(devices):\n",
    "    print(f\"{i}: {d}\")\n",
    "\n",
    "# Connect to the first device (or select by name/type)\n",
    "device = gd.get_device(devices[1])\n",
    "\n",
    "# Start the device\n",
    "device.open()\n",
    "\n",
    "# List sensors (Drop Counter is usually sensor 0)\n",
    "print(\"Sensors:\")\n",
    "for i, sensor in enumerate(device.sensors):\n",
    "    print(f\"{i}: {sensor.name}\")\n",
    "\n",
    "# Enable the Drop Counter sensor (typically first one)\n",
    "drop_counter_sensor = device.sensors[0]\n",
    "drop_counter_sensor.enabled = True\n",
    "\n",
    "# Start measurement\n",
    "device.start(period=100)  # period in ms\n",
    "\n",
    "print(\"Collecting Drop Counter data (press Ctrl+C to stop)...\")\n",
    "try:\n",
    "    while True:\n",
    "        values = drop_counter_sensor.read()\n",
    "        if values:\n",
    "            print(f\"Drops counted: {values[0]}\")\n",
    "        time.sleep(0.1)\n",
    "except KeyboardInterrupt:\n",
    "    print(\"Stopping...\")\n",
    "\n",
    "# Stop and close device\n",
    "device.stop()\n",
    "device.close()\n",
    "gd.quit()\n"
   ]
  },
  {
   "cell_type": "code",
   "execution_count": 30,
   "id": "4f897d37",
   "metadata": {},
   "outputs": [
    {
     "data": {
      "text/plain": [
       "[<godirect.device_usb.GoDirectDeviceUSB at 0x1e90e30f430>,\n",
       " <godirect.device_usb.GoDirectDeviceUSB at 0x1e90e30c2e0>]"
      ]
     },
     "execution_count": 30,
     "metadata": {},
     "output_type": "execute_result"
    }
   ],
   "source": [
    "from godirect import GoDirect\n",
    "import time\n",
    "\n",
    "gd = GoDirect(use_ble=False)\n",
    "devices = gd.list_devices()\n",
    "devices"
   ]
  },
  {
   "cell_type": "code",
   "execution_count": null,
   "id": "d0049747",
   "metadata": {},
   "outputs": [
    {
     "name": "stdout",
     "output_type": "stream",
     "text": [
      "Available sensors:\n",
      "Drop Counter sensor not found.\n"
     ]
    },
    {
     "ename": "AttributeError",
     "evalue": "'NoneType' object has no attribute 'enabled'",
     "output_type": "error",
     "traceback": [
      "\u001b[1;31m---------------------------------------------------------------------------\u001b[0m",
      "\u001b[1;31mAttributeError\u001b[0m                            Traceback (most recent call last)",
      "Cell \u001b[1;32mIn[1], line 35\u001b[0m\n\u001b[0;32m     32\u001b[0m     exit()\n\u001b[0;32m     34\u001b[0m \u001b[38;5;66;03m# Enable sensor\u001b[39;00m\n\u001b[1;32m---> 35\u001b[0m \u001b[43mdrop_counter_sensor\u001b[49m\u001b[38;5;241;43m.\u001b[39;49m\u001b[43menabled\u001b[49m \u001b[38;5;241m=\u001b[39m \u001b[38;5;28;01mTrue\u001b[39;00m\n\u001b[0;32m     37\u001b[0m \u001b[38;5;66;03m# Start the device\u001b[39;00m\n\u001b[0;32m     38\u001b[0m device\u001b[38;5;241m.\u001b[39mstart(period\u001b[38;5;241m=\u001b[39m\u001b[38;5;241m100\u001b[39m)\n",
      "\u001b[1;31mAttributeError\u001b[0m: 'NoneType' object has no attribute 'enabled'"
     ]
    },
    {
     "ename": "",
     "evalue": "",
     "output_type": "error",
     "traceback": [
      "\u001b[1;31mThe Kernel crashed while executing code in the current cell or a previous cell. \n",
      "\u001b[1;31mPlease review the code in the cell(s) to identify a possible cause of the failure. \n",
      "\u001b[1;31mClick <a href='https://aka.ms/vscodeJupyterKernelCrash'>here</a> for more info. \n",
      "\u001b[1;31mView Jupyter <a href='command:jupyter.viewOutput'>log</a> for further details."
     ]
    }
   ],
   "source": [
    "from godirect import GoDirect\n",
    "import time\n",
    "\n",
    "gd = GoDirect(use_ble=False)\n",
    "devices = gd.list_devices()\n",
    "\n",
    "if not devices:\n",
    "    print(\"No Go Direct devices found.\")\n",
    "    gd.quit()\n",
    "    exit()\n",
    "\n",
    "# Select the first connected device\n",
    "device = gd.get_device(devices[0])\n",
    "device.open()\n",
    "\n",
    "# Print all available sensors and their keys\n",
    "print(\"Available sensors:\")\n",
    "for key, sensor in device.sensors.items():\n",
    "    print(f\"{key}: {sensor.name}\")\n",
    "\n",
    "# Try to automatically find the Drop Counter\n",
    "drop_counter_sensor = None\n",
    "for sensor in device.sensors.values():\n",
    "    if \"Drop Counter\" in sensor.name:\n",
    "        drop_counter_sensor = sensor\n",
    "        break\n",
    "\n",
    "if drop_counter_sensor is None:\n",
    "    print(\"Drop Counter sensor not found.\")\n",
    "    device.close()\n",
    "    gd.quit()\n",
    "    exit()\n",
    "\n",
    "# Enable sensor\n",
    "drop_counter_sensor.enabled = True\n",
    "\n",
    "# Start the device\n",
    "device.start(period=100)\n",
    "\n",
    "print(\"Reading Drop Counter data (press Ctrl+C to stop)...\")\n",
    "try:\n",
    "    while True:\n",
    "        values = drop_counter_sensor.read()\n",
    "        if values:\n",
    "            print(f\"Drops counted: {values[0]}\")\n",
    "        time.sleep(0.1)\n",
    "except KeyboardInterrupt:\n",
    "    print(\"Stopping...\")\n",
    "\n",
    "device.stop()\n",
    "device.close()\n",
    "gd.quit()\n"
   ]
  }
 ],
 "metadata": {
  "kernelspec": {
   "display_name": ".conda",
   "language": "python",
   "name": "python3"
  },
  "language_info": {
   "codemirror_mode": {
    "name": "ipython",
    "version": 3
   },
   "file_extension": ".py",
   "mimetype": "text/x-python",
   "name": "python",
   "nbconvert_exporter": "python",
   "pygments_lexer": "ipython3",
   "version": "3.10.16"
  }
 },
 "nbformat": 4,
 "nbformat_minor": 5
}
