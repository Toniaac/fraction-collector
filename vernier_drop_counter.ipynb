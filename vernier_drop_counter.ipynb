{
 "cells": [
  {
   "cell_type": "code",
   "execution_count": 1,
   "id": "fb91c334",
   "metadata": {},
   "outputs": [],
   "source": [
    "import time"
   ]
  },
  {
   "cell_type": "code",
   "execution_count": 2,
   "id": "80fbf169",
   "metadata": {},
   "outputs": [],
   "source": [
    "from gdx import gdx\n",
    "device = gdx.gdx()\n",
    "device.open(connection='usb', device_to_open=\"GDX-DC 05501561\")\n"
   ]
  },
  {
   "cell_type": "code",
   "execution_count": 3,
   "id": "d69923ee",
   "metadata": {},
   "outputs": [],
   "source": [
    "device.select_sensors(1)"
   ]
  },
  {
   "cell_type": "code",
   "execution_count": 22,
   "id": "66a4eaa8",
   "metadata": {},
   "outputs": [
    {
     "name": "stdout",
     "output_type": "stream",
     "text": [
      "Drop Counter (Drops)\n",
      "1\n",
      "2\n",
      "3\n",
      "4\n",
      "5\n",
      "6\n",
      "ERROR: HID read timeout!\n",
      "Drop interval > 5s\n",
      "ERROR: HID read timeout!\n",
      "Drop interval > 5s\n",
      "7\n",
      "8\n",
      "9\n",
      "10\n",
      "11\n",
      "ERROR: HID read timeout!\n",
      "Drop interval > 5s\n",
      "12\n",
      "13\n",
      "14\n",
      "15\n",
      "16\n",
      "17\n",
      "18\n",
      "19\n",
      "20\n"
     ]
    }
   ],
   "source": [
    "device.start(20)\n",
    "column_headers= device.enabled_sensor_info()[0]\n",
    "print(column_headers)\n",
    "drops = 0\n",
    "while drops < 20:  # collect 20 readings\n",
    "        measurements = device.read()\n",
    "        if measurements == None: \n",
    "                drops += 0 \n",
    "                print(\"Drop interval > 5s\")\n",
    "                continue\n",
    "        drops += 1\n",
    "        print(drops)\n",
    "        time.sleep(0.01)\n",
    "device.stop()"
   ]
  },
  {
   "cell_type": "code",
   "execution_count": 6,
   "id": "69ac0153",
   "metadata": {},
   "outputs": [
    {
     "data": {
      "text/plain": [
       "int"
      ]
     },
     "execution_count": 6,
     "metadata": {},
     "output_type": "execute_result"
    }
   ],
   "source": [
    "type(measurements)"
   ]
  },
  {
   "cell_type": "code",
   "execution_count": 11,
   "id": "bc36df65",
   "metadata": {},
   "outputs": [
    {
     "name": "stdout",
     "output_type": "stream",
     "text": [
      "\n",
      "\n",
      "Drop Counter (Drops)\n",
      "[1]\n",
      "[2]\n",
      "[3]\n",
      "[4]\n",
      "[5]\n",
      "ERROR: HID read timeout!\n"
     ]
    }
   ],
   "source": [
    "device.start(20) \n",
    "column_headers= device.enabled_sensor_info()[0]   # returns a string with sensor description and units\n",
    "print('\\n')\n",
    "print(column_headers)\n",
    "\n",
    "for i in range(0,10):\n",
    "    measurements = device.read()\n",
    "    if measurements == None: \n",
    "        break \n",
    "    print(measurements)\n",
    "\n",
    "device.stop()"
   ]
  }
 ],
 "metadata": {
  "kernelspec": {
   "display_name": ".conda",
   "language": "python",
   "name": "python3"
  },
  "language_info": {
   "codemirror_mode": {
    "name": "ipython",
    "version": 3
   },
   "file_extension": ".py",
   "mimetype": "text/x-python",
   "name": "python",
   "nbconvert_exporter": "python",
   "pygments_lexer": "ipython3",
   "version": "3.10.16"
  }
 },
 "nbformat": 4,
 "nbformat_minor": 5
}
